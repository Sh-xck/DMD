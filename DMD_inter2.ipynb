{
 "cells": [
  {
   "cell_type": "code",
   "execution_count": 1,
   "id": "8afa64de",
   "metadata": {
    "executionInfo": {
     "elapsed": 746,
     "status": "ok",
     "timestamp": 1678328546079,
     "user": {
      "displayName": "Hema Yerchuru",
      "userId": "07034232124984676361"
     },
     "user_tz": -330
    },
    "id": "8afa64de"
   },
   "outputs": [],
   "source": [
    "%matplotlib inline\n",
    "import matplotlib.pyplot as plt \n",
    "import numpy as np \n",
    "from pydmd import DMD"
   ]
  },
  {
   "cell_type": "code",
   "execution_count": 2,
   "id": "ff45559f",
   "metadata": {
    "colab": {
     "base_uri": "https://localhost:8080/",
     "height": 206
    },
    "executionInfo": {
     "elapsed": 645,
     "status": "ok",
     "timestamp": 1678328625548,
     "user": {
      "displayName": "Hema Yerchuru",
      "userId": "07034232124984676361"
     },
     "user_tz": -330
    },
    "id": "ff45559f",
    "outputId": "c0e7dce2-5fa3-426f-8854-c8fb25b69ef4"
   },
   "outputs": [
    {
     "data": {
      "text/html": [
       "<div>\n",
       "<style scoped>\n",
       "    .dataframe tbody tr th:only-of-type {\n",
       "        vertical-align: middle;\n",
       "    }\n",
       "\n",
       "    .dataframe tbody tr th {\n",
       "        vertical-align: top;\n",
       "    }\n",
       "\n",
       "    .dataframe thead th {\n",
       "        text-align: right;\n",
       "    }\n",
       "</style>\n",
       "<table border=\"1\" class=\"dataframe\">\n",
       "  <thead>\n",
       "    <tr style=\"text-align: right;\">\n",
       "      <th></th>\n",
       "      <th>Country</th>\n",
       "      <th>ISO 3166-1 alpha-3</th>\n",
       "      <th>Year</th>\n",
       "      <th>Total</th>\n",
       "      <th>Coal</th>\n",
       "      <th>Oil</th>\n",
       "      <th>Gas</th>\n",
       "      <th>Cement</th>\n",
       "      <th>Flaring</th>\n",
       "      <th>Other</th>\n",
       "      <th>Per Capita</th>\n",
       "    </tr>\n",
       "  </thead>\n",
       "  <tbody>\n",
       "    <tr>\n",
       "      <th>0</th>\n",
       "      <td>Afghanistan</td>\n",
       "      <td>AFG</td>\n",
       "      <td>1750</td>\n",
       "      <td>0.0</td>\n",
       "      <td>NaN</td>\n",
       "      <td>NaN</td>\n",
       "      <td>NaN</td>\n",
       "      <td>NaN</td>\n",
       "      <td>NaN</td>\n",
       "      <td>NaN</td>\n",
       "      <td>NaN</td>\n",
       "    </tr>\n",
       "    <tr>\n",
       "      <th>1</th>\n",
       "      <td>Afghanistan</td>\n",
       "      <td>AFG</td>\n",
       "      <td>1751</td>\n",
       "      <td>0.0</td>\n",
       "      <td>NaN</td>\n",
       "      <td>NaN</td>\n",
       "      <td>NaN</td>\n",
       "      <td>NaN</td>\n",
       "      <td>NaN</td>\n",
       "      <td>NaN</td>\n",
       "      <td>NaN</td>\n",
       "    </tr>\n",
       "    <tr>\n",
       "      <th>2</th>\n",
       "      <td>Afghanistan</td>\n",
       "      <td>AFG</td>\n",
       "      <td>1752</td>\n",
       "      <td>0.0</td>\n",
       "      <td>NaN</td>\n",
       "      <td>NaN</td>\n",
       "      <td>NaN</td>\n",
       "      <td>NaN</td>\n",
       "      <td>NaN</td>\n",
       "      <td>NaN</td>\n",
       "      <td>NaN</td>\n",
       "    </tr>\n",
       "    <tr>\n",
       "      <th>3</th>\n",
       "      <td>Afghanistan</td>\n",
       "      <td>AFG</td>\n",
       "      <td>1753</td>\n",
       "      <td>0.0</td>\n",
       "      <td>NaN</td>\n",
       "      <td>NaN</td>\n",
       "      <td>NaN</td>\n",
       "      <td>NaN</td>\n",
       "      <td>NaN</td>\n",
       "      <td>NaN</td>\n",
       "      <td>NaN</td>\n",
       "    </tr>\n",
       "    <tr>\n",
       "      <th>4</th>\n",
       "      <td>Afghanistan</td>\n",
       "      <td>AFG</td>\n",
       "      <td>1754</td>\n",
       "      <td>0.0</td>\n",
       "      <td>NaN</td>\n",
       "      <td>NaN</td>\n",
       "      <td>NaN</td>\n",
       "      <td>NaN</td>\n",
       "      <td>NaN</td>\n",
       "      <td>NaN</td>\n",
       "      <td>NaN</td>\n",
       "    </tr>\n",
       "  </tbody>\n",
       "</table>\n",
       "</div>"
      ],
      "text/plain": [
       "       Country ISO 3166-1 alpha-3  Year  Total  Coal  Oil  Gas  Cement  \\\n",
       "0  Afghanistan                AFG  1750    0.0   NaN  NaN  NaN     NaN   \n",
       "1  Afghanistan                AFG  1751    0.0   NaN  NaN  NaN     NaN   \n",
       "2  Afghanistan                AFG  1752    0.0   NaN  NaN  NaN     NaN   \n",
       "3  Afghanistan                AFG  1753    0.0   NaN  NaN  NaN     NaN   \n",
       "4  Afghanistan                AFG  1754    0.0   NaN  NaN  NaN     NaN   \n",
       "\n",
       "   Flaring  Other  Per Capita  \n",
       "0      NaN    NaN         NaN  \n",
       "1      NaN    NaN         NaN  \n",
       "2      NaN    NaN         NaN  \n",
       "3      NaN    NaN         NaN  \n",
       "4      NaN    NaN         NaN  "
      ]
     },
     "execution_count": 2,
     "metadata": {},
     "output_type": "execute_result"
    }
   ],
   "source": [
    "import pandas as pd \n",
    "train=pd.read_csv('emissions.csv')\n",
    "train.head()\n"
   ]
  },
  {
   "cell_type": "code",
   "execution_count": 3,
   "id": "eeab8e83",
   "metadata": {
    "executionInfo": {
     "elapsed": 682,
     "status": "ok",
     "timestamp": 1678328632306,
     "user": {
      "displayName": "Hema Yerchuru",
      "userId": "07034232124984676361"
     },
     "user_tz": -330
    },
    "id": "eeab8e83"
   },
   "outputs": [],
   "source": [
    "train1=train.drop(['ISO 3166-1 alpha-3','Coal','Oil','Gas','Cement','Flaring','Other','Per Capita'],axis=1)"
   ]
  },
  {
   "cell_type": "code",
   "execution_count": 4,
   "id": "8643b4a0",
   "metadata": {
    "colab": {
     "base_uri": "https://localhost:8080/",
     "height": 206
    },
    "executionInfo": {
     "elapsed": 6,
     "status": "ok",
     "timestamp": 1678328632307,
     "user": {
      "displayName": "Hema Yerchuru",
      "userId": "07034232124984676361"
     },
     "user_tz": -330
    },
    "id": "8643b4a0",
    "outputId": "0e8039e2-3029-4327-86a2-a6b6e87742d4"
   },
   "outputs": [
    {
     "data": {
      "text/html": [
       "<div>\n",
       "<style scoped>\n",
       "    .dataframe tbody tr th:only-of-type {\n",
       "        vertical-align: middle;\n",
       "    }\n",
       "\n",
       "    .dataframe tbody tr th {\n",
       "        vertical-align: top;\n",
       "    }\n",
       "\n",
       "    .dataframe thead th {\n",
       "        text-align: right;\n",
       "    }\n",
       "</style>\n",
       "<table border=\"1\" class=\"dataframe\">\n",
       "  <thead>\n",
       "    <tr style=\"text-align: right;\">\n",
       "      <th></th>\n",
       "      <th>Country</th>\n",
       "      <th>Year</th>\n",
       "      <th>Total</th>\n",
       "    </tr>\n",
       "  </thead>\n",
       "  <tbody>\n",
       "    <tr>\n",
       "      <th>0</th>\n",
       "      <td>Afghanistan</td>\n",
       "      <td>1750</td>\n",
       "      <td>0.0</td>\n",
       "    </tr>\n",
       "    <tr>\n",
       "      <th>1</th>\n",
       "      <td>Afghanistan</td>\n",
       "      <td>1751</td>\n",
       "      <td>0.0</td>\n",
       "    </tr>\n",
       "    <tr>\n",
       "      <th>2</th>\n",
       "      <td>Afghanistan</td>\n",
       "      <td>1752</td>\n",
       "      <td>0.0</td>\n",
       "    </tr>\n",
       "    <tr>\n",
       "      <th>3</th>\n",
       "      <td>Afghanistan</td>\n",
       "      <td>1753</td>\n",
       "      <td>0.0</td>\n",
       "    </tr>\n",
       "    <tr>\n",
       "      <th>4</th>\n",
       "      <td>Afghanistan</td>\n",
       "      <td>1754</td>\n",
       "      <td>0.0</td>\n",
       "    </tr>\n",
       "  </tbody>\n",
       "</table>\n",
       "</div>"
      ],
      "text/plain": [
       "       Country  Year  Total\n",
       "0  Afghanistan  1750    0.0\n",
       "1  Afghanistan  1751    0.0\n",
       "2  Afghanistan  1752    0.0\n",
       "3  Afghanistan  1753    0.0\n",
       "4  Afghanistan  1754    0.0"
      ]
     },
     "execution_count": 4,
     "metadata": {},
     "output_type": "execute_result"
    }
   ],
   "source": [
    "train1.head()"
   ]
  },
  {
   "cell_type": "code",
   "execution_count": 5,
   "id": "c6174ab1",
   "metadata": {},
   "outputs": [],
   "source": [
    "train1 = train1.replace(np.inf, np.nan).replace(-np.inf, np.nan).dropna()\n",
    "modtrain=train1"
   ]
  },
  {
   "cell_type": "code",
   "execution_count": null,
   "id": "969fcd65",
   "metadata": {},
   "outputs": [],
   "source": []
  },
  {
   "cell_type": "code",
   "execution_count": 6,
   "id": "a8ed9806",
   "metadata": {
    "executionInfo": {
     "elapsed": 5,
     "status": "ok",
     "timestamp": 1678328632308,
     "user": {
      "displayName": "Hema Yerchuru",
      "userId": "07034232124984676361"
     },
     "user_tz": -330
    },
    "id": "a8ed9806"
   },
   "outputs": [],
   "source": [
    "# Arranging the data of countries through the years\n",
    "modtrain1=modtrain.sort_values('Year')"
   ]
  },
  {
   "cell_type": "code",
   "execution_count": 7,
   "id": "10658946",
   "metadata": {
    "colab": {
     "base_uri": "https://localhost:8080/"
    },
    "executionInfo": {
     "elapsed": 1131,
     "status": "ok",
     "timestamp": 1678328633434,
     "user": {
      "displayName": "Hema Yerchuru",
      "userId": "07034232124984676361"
     },
     "user_tz": -330
    },
    "id": "10658946",
    "outputId": "e9adb0dc-9ff1-4620-fef1-0883349c73d8"
   },
   "outputs": [
    {
     "data": {
      "text/plain": [
       "(62904, 3)"
      ]
     },
     "execution_count": 7,
     "metadata": {},
     "output_type": "execute_result"
    }
   ],
   "source": [
    "modtrain1.shape"
   ]
  },
  {
   "cell_type": "code",
   "execution_count": 8,
   "id": "21f3c438",
   "metadata": {
    "colab": {
     "base_uri": "https://localhost:8080/"
    },
    "executionInfo": {
     "elapsed": 5,
     "status": "ok",
     "timestamp": 1678328633434,
     "user": {
      "displayName": "Hema Yerchuru",
      "userId": "07034232124984676361"
     },
     "user_tz": -330
    },
    "id": "21f3c438",
    "outputId": "a82b9816-3aad-4d21-bf00-d0d83593dca6"
   },
   "outputs": [
    {
     "data": {
      "text/html": [
       "<div>\n",
       "<style scoped>\n",
       "    .dataframe tbody tr th:only-of-type {\n",
       "        vertical-align: middle;\n",
       "    }\n",
       "\n",
       "    .dataframe tbody tr th {\n",
       "        vertical-align: top;\n",
       "    }\n",
       "\n",
       "    .dataframe thead th {\n",
       "        text-align: right;\n",
       "    }\n",
       "</style>\n",
       "<table border=\"1\" class=\"dataframe\">\n",
       "  <thead>\n",
       "    <tr style=\"text-align: right;\">\n",
       "      <th></th>\n",
       "      <th>Total</th>\n",
       "    </tr>\n",
       "  </thead>\n",
       "  <tbody>\n",
       "    <tr>\n",
       "      <th>0</th>\n",
       "      <td>0.000000</td>\n",
       "    </tr>\n",
       "    <tr>\n",
       "      <th>1</th>\n",
       "      <td>0.000000</td>\n",
       "    </tr>\n",
       "    <tr>\n",
       "      <th>2</th>\n",
       "      <td>0.000000</td>\n",
       "    </tr>\n",
       "    <tr>\n",
       "      <th>3</th>\n",
       "      <td>0.000000</td>\n",
       "    </tr>\n",
       "    <tr>\n",
       "      <th>4</th>\n",
       "      <td>0.000000</td>\n",
       "    </tr>\n",
       "    <tr>\n",
       "      <th>...</th>\n",
       "      <td>...</td>\n",
       "    </tr>\n",
       "    <tr>\n",
       "      <th>63099</th>\n",
       "      <td>36096.739276</td>\n",
       "    </tr>\n",
       "    <tr>\n",
       "      <th>63100</th>\n",
       "      <td>36826.506600</td>\n",
       "    </tr>\n",
       "    <tr>\n",
       "      <th>63101</th>\n",
       "      <td>37082.558969</td>\n",
       "    </tr>\n",
       "    <tr>\n",
       "      <th>63102</th>\n",
       "      <td>35264.085734</td>\n",
       "    </tr>\n",
       "    <tr>\n",
       "      <th>63103</th>\n",
       "      <td>37123.850352</td>\n",
       "    </tr>\n",
       "  </tbody>\n",
       "</table>\n",
       "<p>62904 rows × 1 columns</p>\n",
       "</div>"
      ],
      "text/plain": [
       "              Total\n",
       "0          0.000000\n",
       "1          0.000000\n",
       "2          0.000000\n",
       "3          0.000000\n",
       "4          0.000000\n",
       "...             ...\n",
       "63099  36096.739276\n",
       "63100  36826.506600\n",
       "63101  37082.558969\n",
       "63102  35264.085734\n",
       "63103  37123.850352\n",
       "\n",
       "[62904 rows x 1 columns]"
      ]
     },
     "execution_count": 8,
     "metadata": {},
     "output_type": "execute_result"
    }
   ],
   "source": [
    "train2=train1.drop(['Country','Year'],axis=1)\n",
    "train2.head()\n",
    "train2[np.isfinite(train2).all(1)]"
   ]
  },
  {
   "cell_type": "code",
   "execution_count": 9,
   "id": "32abdc57",
   "metadata": {},
   "outputs": [],
   "source": [
    "l4=train1.Country.unique()\n",
    "ln=l4[:-1]\n",
    "dt=[]\n",
    "for i in ln:\n",
    "    w=train1[train1.Country==i]\n",
    "    q1=w[w.Year>2019]\n",
    "    qq1=q1[q1.Year<2022].T\n",
    "    #print(q1.shape)\n",
    "    #q1=w.T\n",
    "    q2=qq1.drop(['Country','Year'])\n",
    "    q3=np.array(q2).flatten()\n",
    "    #q4=q3.flatten()\n",
    "    dt.append(q3)\n",
    "dt=np.array(dt)\n",
    "dtt=dt.astype(float)"
   ]
  },
  {
   "cell_type": "code",
   "execution_count": 10,
   "id": "641d78c5",
   "metadata": {},
   "outputs": [
    {
     "name": "stderr",
     "output_type": "stream",
     "text": [
      "D:\\Anaconda\\lib\\site-packages\\pydmd\\utils.py:67: RuntimeWarning: SVD optimal rank is 0. The largest singular values are indistinguishable from noise. Setting rank truncation to 1.\n",
      "  warnings.warn(\n"
     ]
    }
   ],
   "source": [
    "# Implementing DMD \n",
    "#hodmd = DMD(svd_rank=5,opt=True).fit(dt3)\n",
    "hodmd=DMD().fit(dtt)\n",
    "# svd_rank - number of singular values/vectors to be taken "
   ]
  },
  {
   "cell_type": "code",
   "execution_count": 11,
   "id": "72f53035",
   "metadata": {},
   "outputs": [
    {
     "data": {
      "image/png": "[encoded data removed]",
      "text/plain": [
       "<Figure size 576x576 with 1 Axes>"
      ]
     },
     "metadata": {
      "needs_background": "light"
     },
     "output_type": "display_data"
    }
   ],
   "source": [
    "hodmd.plot_eigs()\n",
    "# plotting the eigenvalues from DMD "
   ]
  },
  {
   "cell_type": "code",
   "execution_count": 12,
   "id": "38490fbd",
   "metadata": {},
   "outputs": [
    {
     "name": "stdout",
     "output_type": "stream",
     "text": [
      "Shape before manipulation: (231, 2)\n",
      "Shape after manipulation: (231, 4)\n"
     ]
    }
   ],
   "source": [
    "print(\"Shape before manipulation: {}\".format(hodmd.reconstructed_data.shape))\n",
    "# Predicting the system for the future \n",
    "hodmd.dmd_time['dt'] *= .25\n",
    "hodmd.dmd_time['tend'] *= 0.7\n",
    "print(\"Shape after manipulation: {}\".format(hodmd.reconstructed_data.shape))"
   ]
  },
  {
   "cell_type": "code",
   "execution_count": 13,
   "id": "75d571e7",
   "metadata": {},
   "outputs": [
    {
     "data": {
      "text/plain": [
       "<Figure size 432x288 with 0 Axes>"
      ]
     },
     "metadata": {},
     "output_type": "display_data"
    }
   ],
   "source": [
    "fig = plt.figure()\n",
    "tmdt=hodmd.reconstructed_data \n",
    "dmd_states = [state for state in tmdt]"
   ]
  },
  {
   "cell_type": "code",
   "execution_count": 14,
   "id": "8701f17d",
   "metadata": {},
   "outputs": [
    {
     "data": {
      "text/plain": [
       "(231, 4)"
      ]
     },
     "execution_count": 14,
     "metadata": {},
     "output_type": "execute_result"
    }
   ],
   "source": [
    "dmd_states=np.array(dmd_states)\n",
    "dmd_states.shape"
   ]
  },
  {
   "cell_type": "code",
   "execution_count": 15,
   "id": "08e7a37f",
   "metadata": {},
   "outputs": [
    {
     "data": {
      "image/png": "[encoded data removed]",
      "text/plain": [
       "<Figure size 432x288 with 1 Axes>"
      ]
     },
     "metadata": {
      "needs_background": "light"
     },
     "output_type": "display_data"
    }
   ],
   "source": [
    "import scipy\n",
    "snapshots=dmd_states.T\n",
    "fig = plt.plot(scipy.linalg.svdvals(np.array([snapshot.flatten() for snapshot in snapshots]).T), 'o')"
   ]
  },
  {
   "cell_type": "code",
   "execution_count": 16,
   "id": "298a8ebb",
   "metadata": {},
   "outputs": [
    {
     "data": {
      "text/plain": [
       "<matplotlib.legend.Legend at 0x15a3b3b6970>"
      ]
     },
     "execution_count": 16,
     "metadata": {},
     "output_type": "execute_result"
    },
    {
     "data": {
      "image/png": "[encoded data removed]",
      "text/plain": [
       "<Figure size 432x288 with 1 Axes>"
      ]
     },
     "metadata": {
      "needs_background": "light"
     },
     "output_type": "display_data"
    }
   ],
   "source": [
    "plt.plot(dtt[:,1])\n",
    "plt.plot(dmd_states[:,1])\n",
    "plt.legend([\"Actual\",\"DMD\"])"
   ]
  },
  {
   "cell_type": "code",
   "execution_count": 17,
   "id": "9319d096",
   "metadata": {},
   "outputs": [
    {
     "name": "stdout",
     "output_type": "stream",
     "text": [
      "2021\n",
      "0.04874669951092639\n",
      "1193.882042158988\n",
      "6.832112629543316\n",
      "2020\n",
      "6.872499614221453e-16\n",
      "1.3981576987409963e-26\n",
      "1.8134652780165518e-14\n"
     ]
    }
   ],
   "source": [
    "from sklearn.metrics import mean_absolute_error as mae\n",
    "from sklearn.metrics import mean_squared_error as rmse\n",
    "from sklearn.metrics import mean_absolute_percentage_error as mape\n",
    "# error values\n",
    "print(2021)\n",
    "print(mape(dtt[:,1].real,dmd_states[:,1].real))\n",
    "print(rmse(dtt[:,1].real,dmd_states[:,1].real))\n",
    "print(mae(dtt[:,1].real,dmd_states[:,1].real))\n",
    "print(2020)\n",
    "print(mape(dtt[:,0].real,dmd_states[:,0].real))\n",
    "print(rmse(dtt[:,0].real,dmd_states[:,0].real))\n",
    "print(mae(dtt[:,0].real,dmd_states[:,0].real))"
   ]
  },
  {
   "cell_type": "code",
   "execution_count": 18,
   "id": "4a199a18",
   "metadata": {},
   "outputs": [
    {
     "data": {
      "text/plain": [
       "36166.33384859626"
      ]
     },
     "execution_count": 18,
     "metadata": {},
     "output_type": "execute_result"
    }
   ],
   "source": [
    "#predicted value for 2022 \n",
    "np.sum(dmd_states[:,2])"
   ]
  },
  {
   "cell_type": "code",
   "execution_count": 19,
   "id": "354810f9",
   "metadata": {},
   "outputs": [
    {
     "data": {
      "text/plain": [
       "36626.07800531298"
      ]
     },
     "execution_count": 19,
     "metadata": {},
     "output_type": "execute_result"
    }
   ],
   "source": [
    "#predicted value for 2023\n",
    "np.sum(dmd_states[:,3])"
   ]
  },
  {
   "cell_type": "code",
   "execution_count": 20,
   "id": "44c25547",
   "metadata": {},
   "outputs": [
    {
     "data": {
      "text/plain": [
       "35712.360571568184"
      ]
     },
     "execution_count": 20,
     "metadata": {},
     "output_type": "execute_result"
    }
   ],
   "source": [
    "#predicted value for 2021\n",
    "np.sum(dmd_states[:,1])"
   ]
  },
  {
   "cell_type": "code",
   "execution_count": 21,
   "id": "92f3e7ef",
   "metadata": {},
   "outputs": [
    {
     "data": {
      "text/plain": [
       "35264.085736"
      ]
     },
     "execution_count": 21,
     "metadata": {},
     "output_type": "execute_result"
    }
   ],
   "source": [
    "#predicted value for 2020\n",
    "np.sum(dmd_states[:,0])"
   ]
  }
 ],
 "metadata": {
  "colab": {
   "provenance": []
  },
  "kernelspec": {
   "display_name": "Python 3 (ipykernel)",
   "language": "python",
   "name": "python3"
  },
  "language_info": {
   "codemirror_mode": {
    "name": "ipython",
    "version": 3
   },
   "file_extension": ".py",
   "mimetype": "text/x-python",
   "name": "python",
   "nbconvert_exporter": "python",
   "pygments_lexer": "ipython3",
   "version": "3.9.12"
  },
  "vscode": {
   "interpreter": {
    "hash": "7da8261768ba4ab268998850cfb4e2a8bdaee38c6a31db4470052c3d9c22758f"
   }
  }
 },
 "nbformat": 4,
 "nbformat_minor": 5
}
